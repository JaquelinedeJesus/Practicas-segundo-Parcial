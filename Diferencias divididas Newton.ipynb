{
  "metadata": {
    "language_info": {
      "name": ""
    },
    "kernelspec": {
      "name": "python",
      "display_name": "Python (Pyodide)",
      "language": "python"
    }
  },
  "nbformat_minor": 4,
  "nbformat": 4,
  "cells": [
    {
      "cell_type": "code",
      "source": "# Diferencias divididas de Newton\n\nimport numpy as np\nimport sympy as sym\nimport matplotlib.pyplot as plt\n\n# INGRESO , Datos del ejercicio 1\nxi = np.array([1.0, 1.3, 1.6, 1.9, 2.2])\nfi = np.array([0.7651977, 0.6200860, 0.4554022, 0.2818186, 0.1103623])\n\n# PROCEDIMIENTO\n\n# Tabla de Diferencias Divididas \ntitulo = ['i   ','xi  ','fi  ']\nn = len(xi)\nki = np.arange(0,n,1)\ntabla = np.concatenate(([ki],[xi],[fi]),axis=0)\ntabla = np.transpose(tabla)\n\n# diferencias divididas vacia\ndfinita = np.zeros(shape=(n,n),dtype=float)\ntabla = np.concatenate((tabla,dfinita), axis=1)\n\n# Calcula tabla, inicia en columna 3\n[n,m] = np.shape(tabla)\ndiagonal = n-1\nj = 3\nwhile (j < m):\n    # Añadir título de cada columna\n    titulo.append('F['+str(j-2)+']')\n\n    # cada fila de columna\n    i = 0\n    paso = j-2 # inicia en 1\n    while (i < diagonal):\n        denominador = (xi[i+paso]-xi[i])\n        numerador = tabla[i+1,j-1]-tabla[i,j-1]\n        tabla[i,j] = numerador/denominador\n        i = i+1\n\n    diagonal = diagonal - 1\n    j = j+1\n\n# Polinomio con diferencias Divididas\n# caso: puntos equidistantes en eje x\nDividida = tabla[0,3:]\nn = len(dfinita)\n\n# expresión del polinomio con Sympy\nx = sym.Symbol('x')\npolinomio = fi[0]\nfor j in range(1,n,1):\n    factor = Dividida[j-1]\n    termino = 1\n    for k in range(0,j,1):\n        termino = termino*(x-xi[k])\n    polinomio = polinomio + termino*factor\n\n# simplifica multiplicando entre (x-xi)\npolisimple = polinomio.expand()\n\n# polinomio para evaluacion numérica\npx = sym.lambdify(x,polisimple)\n\n# Puntos para la gráfica\nmuestras = 101\na = np.min(xi)\nb = np.max(xi)\npxi = np.linspace(a,b,muestras)\npfi = px(pxi)\n\n# Salida\nnp.set_printoptions(precision = 1)\nprint('Tabla Diferencia Dividida')\nprint([titulo])\nprint(tabla)\nprint('Dividida: ')\nprint(Dividida)\nprint('polinomio: ')\nprint(polinomio)\nprint('polinomio simplificado: ' )\nprint(polisimple)\n\n# Gráfica\nplt.plot(xi,fi,'o', label = 'Puntos')\n##for i in range(0,n,1):\n##    plt.axvline(xi[i],ls='--', color='yellow')\nplt.plot(pxi,pfi, label = 'Polinomio')\nplt.legend()\nplt.xlabel('xi')\nplt.ylabel('fi')\nplt.title('Diferencias Divididas - Newton')\nplt.show()",
      "metadata": {
        "trusted": true
      },
      "execution_count": null,
      "outputs": []
    }
  ]
}