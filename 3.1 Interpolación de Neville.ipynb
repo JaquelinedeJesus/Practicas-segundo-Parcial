{
  "metadata": {
    "language_info": {
      "name": ""
    },
    "kernelspec": {
      "name": "python",
      "display_name": "Python (Pyodide)",
      "language": "python"
    }
  },
  "nbformat_minor": 4,
  "nbformat": 4,
  "cells": [
    {
      "cell_type": "code",
      "source": "#3.1 Interpolación de Neville\n\nimport numpy as np\nimport matplotlib . pyplot as plt\nfrom decimal import*\n#Ejercicio 2, datos\nx=np.array ([1.0,1.3,1.6,1.9,2.2])\ny=np.array ([0.7651977,0.6200860,0.4554022,0.2818186,0.1103623])\nn=x.size\nG=np.zeros (( n, n))\nxi=np.pi\nyi=0\n #Calculo de interpolaciones \nG[:,0]=y\nfor i in range (1, n):\n    for j in range (1, i+1):\n         G [i , j ]=(( xi - x [i - j ]) * G [i ,j -1] -( xi - x [ i ]) * G [i -1 ,j -1]) /( x [ i ] - x[i - j ])\n         yi=G[i,i]\n         if abs(G[i,i]-G[i-1, i-1]) <1e-5:\n             exit\n# Salida\nnp.set_printoptions(precision=5)\nprint(G)\n\nprint(yi)\n\n#Gráfica\nplt.plot (x,y,'o')\nplt.plot (xi,yi,'sr')\nplt.text (xi+0.3,yi,' $\\pi$ ! ' + str(yi))\nplt.title ('Factorial n!')\nplt.legend (['Factorial','Interpolación'])\nplt.grid ( True )\nplt.show ()",
      "metadata": {},
      "execution_count": null,
      "outputs": []
    }
  ]
}