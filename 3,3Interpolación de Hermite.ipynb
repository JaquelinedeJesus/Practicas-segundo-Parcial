{
  "metadata": {
    "language_info": {
      "name": ""
    },
    "kernelspec": {
      "name": "python",
      "display_name": "Python (Pyodide)",
      "language": "python"
    }
  },
  "nbformat_minor": 4,
  "nbformat": 4,
  "cells": [
    {
      "cell_type": "code",
      "source": "#3.3 Interpolación De Hermite Jaqueline de Jesús\nimport numpy as np\nfrom sympy import Symbol , init_printing , lambdify , horner , expand , pprint\nimport matplotlib . pyplot as plt\n\n\nx = Symbol ('x')\ninit_printing ( use_unicode = True )\n\n#Definimos las variables\ndef diferencia (x , y , yp ) :\n    n = len( x )\n    z = np . empty ( shape =2 * n , dtype = float )\n    Q = np . zeros ( shape =(2 * n , 2 * n ) , dtype = float )\n    d = np . empty ( shape =2 * n , dtype = float )\n\n#Creación del polinomio\n    for i in np . arange ( n ) :\n        z [2 * i] = x [ i ]\n        z [2 * i + 1] = x [ i ]\n        Q [2 * i ][0] = y [ i ]\n        Q [2 * i + 1][0] = y [i ]\n        Q [2 * i + 1][1] = yp [ i ]\n        if i !=0:\n            Q [2 * i ][1] = ( Q [2 * i ][0] - Q [2 * i - 1][0]) / ( z [2 * i ] - z [2 * i -1])\n\n    for i in np . arange (2 , 2 * ( n - 1) + 2) :\n        for j in np . arange (2 , i + 1) :\n            f = Q [ i ][ j - 1] - Q [i - 1][ j - 1]\n            g = z [ i] - z [ i - j ]\n            Q [ i ][ j ] = f / g\n    d = Q . diagonal ()\n    return z , d\n\ndef polhermitesym (diff , z ) :\n    n = len( z )-1\n    pol = diff[ n ]\n    for k in np . arange (1 , n + 1) :\n        pol=diff[n-k]+( x - z [n-k])*pol\n    return pol\n#Entrada de datos del ejercicio 1\nif __name__ ==  '__main__':\n    datos_x = np . array ([1.3 , 1.6 , 1.9] , dtype = float )\n    datos_y = np . array ([0.6200860 , 0.4554022 , 0.2818186] , dtype = float )\n    datos_yp = [ -0.5220232 , -0.5698959 , -0.5811571]\n#Salida \n    d = diferencia( datos_x , datos_y , datos_yp)\n    diff = d[1]\n    polhermitesym = polhermitesym (diff, d[0])\n    pprint ('Polinomio de Hermite:')\n    pprint ( expand(polhermitesym))\n    pprint ('Valor aproximado con x ={0} es H ({0}) ={1} '. format (1.5 , polhermitesym . subs (x , 1.5) ) )\n#Gráfica\n    polisimple=polhermitesym.expand()\n    px=lambdify(x, polisimple)\n    muestras=101\n    pxi=np.linspace(-2,5,muestras)\n    pfi=px(pxi)\n    plt.plot(datos_x,datos_y,'o',label='Puntos')\n    plt.plot(pxi,pfi,label='Polinomio')\n    plt.legend()\n    plt.xlabel('xi')\n    plt.ylabel('fi')\n    plt.title('Método de interpolación de Hermite')",
      "metadata": {
        "trusted": true
      },
      "execution_count": null,
      "outputs": []
    },
    {
      "cell_type": "code",
      "source": "",
      "metadata": {},
      "execution_count": null,
      "outputs": []
    }
  ]
}