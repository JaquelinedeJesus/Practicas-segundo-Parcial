{
  "metadata": {
    "language_info": {
      "codemirror_mode": {
        "name": "python",
        "version": 3
      },
      "file_extension": ".py",
      "mimetype": "text/x-python",
      "name": "python",
      "nbconvert_exporter": "python",
      "pygments_lexer": "ipython3",
      "version": "3.8"
    },
    "kernelspec": {
      "name": "python",
      "display_name": "Python (Pyodide)",
      "language": "python"
    }
  },
  "nbformat_minor": 4,
  "nbformat": 4,
  "cells": [
    {
      "cell_type": "code",
      "source": "#  3.1 Interpolación de Neville\n\nimport numpy as np\nimport matplotlib . pyplot as plt\nfrom decimal import*\n#Ejercicio 2, datos\nx=np.array ([1.0,1.3,1.6,1.9,2.2])\ny=np.array ([0.7651977,0.6200860,0.4554022,0.2818186,0.1103623])\nn=x.size\nQ=np.zeros (( n, n))\nxi=np.pi\nyi=0\n #Calculo de interpolaciones\nQ[:,0]=y\nfor i in range (1, n):\n    for j in range (1, i+1):\n         Q [i , j ]=(( xi - x [i - j ]) * Q [i ,j -1] -( xi - x [ i ]) * Q [i -1 ,j -1]) /( x [ i ] - x[i - j ])\n         yi=Q[i,i]\n         if abs(Q[i,i]-Q[i-1, i-1]) <1e-5:\n             exit\n# Salida\nnp.set_printoptions(precision=5)\nprint(Q)\n\nprint(yi)\n\n#Gráfica\nplt.plot (x,y,'o')\nplt.plot (xi,yi,'sr')\nplt.text (xi+0.3,yi,' $\\pi$ ! ' + str(yi))\nplt.title ('3.1Interpolación de Neville')\nplt.legend (['Polinomio','Interpolación'])\nplt.grid ( True )\nplt.show ()",
      "metadata": {},
      "execution_count": null,
      "outputs": []
    }
  ]
}